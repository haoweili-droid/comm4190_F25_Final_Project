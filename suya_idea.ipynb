{
 "cells": [
  {
   "cell_type": "markdown",
   "id": "c7796fec-0627-485f-9270-1a8fc52cdff1",
   "metadata": {},
   "source": [
    "**QuickRelief** -  For minor health issues, sometimes we don't want to wait to see the doctor to know how we can feel better! QuickRelief is a chatbot that will help people instantly identify effective over-the-counter medications for their symptoms (e.g. jaw clenching = magnesium, allergies = Flonase). Create a medical profile to also address what medications you're available to use such as filtering out your allergens or like medications containing ingredients you don't want to use. By focusing on safe, readily available medications found at local drugstores, QuickRelief empowers people to make informed, convenient, and accurate self-care decisions in seconds. Also have built-in translation services for non-English speakers adjusting to American drugstore availability."
   ]
  }
 ],
 "metadata": {
  "kernelspec": {
   "display_name": "Python 3-12 (COMM4190)",
   "language": "python",
   "name": "python3-12_comm4190"
  },
  "language_info": {
   "codemirror_mode": {
    "name": "ipython",
    "version": 3
   },
   "file_extension": ".py",
   "mimetype": "text/x-python",
   "name": "python",
   "nbconvert_exporter": "python",
   "pygments_lexer": "ipython3",
   "version": "3.12.12"
  }
 },
 "nbformat": 4,
 "nbformat_minor": 5
}
