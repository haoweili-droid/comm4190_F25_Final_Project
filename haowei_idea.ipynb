{
 "cells": [
  {
   "cell_type": "markdown",
   "id": "afd939d8-d89b-424e-9787-002facc9bca1",
   "metadata": {},
   "source": [
    "# Final Project Idea Pitching"
   ]
  },
  {
   "cell_type": "markdown",
   "id": "3f0ff6af-2574-437e-a54e-fce402a93222",
   "metadata": {},
   "source": [
    "by Haowei"
   ]
  },
  {
   "cell_type": "raw",
   "id": "6337533e-aa5b-45f4-8bbd-9fdb149fedcb",
   "metadata": {},
   "source": [
    "My idea for the LLM App is to create a public speaking coach agent that helps college students and working professionals to proof read projects, practice presentations or pitches and provide personalized comments by taking roles of stakeholders. As LLMs are getting increasingly powerful, everyone can create products, yet few have the entrepernureship skills to sell their products to investors and customers. People need perspectives on their work, but they cannot always find the most helpful resources. This presentation coach App can proof read any project including papers, product document, slide decks, posters, personal statement etc. Users just need to upload or take a photo of the work, and LLMs will play the role of a group of reader to provide evaluations from a particular perspective. The user can interact with the LLM via text, audio chat or even gesture, just like how people in the real world will communicate. LLM will hold role play sessions with the user to help them improve their speech. For example, if a marketing manager wants to proof read her campaign plan to prepare for her presentation with clients tomorrow, the LLM can play the role of specific clients and give targeted feedback that will help the marketing manager improve for the specific task. With this App, LLM can take on different personas to provide reviews. This will look similar as using LLM to do a product AB testing, but with richer details, more comprehensive suggestions on improving project and presentations, and more actionable result. "
   ]
  },
  {
   "cell_type": "code",
   "execution_count": null,
   "id": "c5ea9f88-39ea-4bf2-9cc7-8973ca910ac4",
   "metadata": {},
   "outputs": [],
   "source": []
  }
 ],
 "metadata": {
  "kernelspec": {
   "display_name": "Python 3-12 (COMM4190)",
   "language": "python",
   "name": "python3-12_comm4190"
  },
  "language_info": {
   "codemirror_mode": {
    "name": "ipython",
    "version": 3
   },
   "file_extension": ".py",
   "mimetype": "text/x-python",
   "name": "python",
   "nbconvert_exporter": "python",
   "pygments_lexer": "ipython3",
   "version": "3.12.12"
  }
 },
 "nbformat": 4,
 "nbformat_minor": 5
}
