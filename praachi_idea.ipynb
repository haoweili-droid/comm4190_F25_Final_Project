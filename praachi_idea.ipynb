{
 "cells": [
  {
   "cell_type": "markdown",
   "id": "99095b68-1f8d-4ba3-a433-e21042c7aacd",
   "metadata": {},
   "source": [
    "## Praachi Idea Pitch"
   ]
  },
  {
   "cell_type": "markdown",
   "id": "f5c2829c-19e9-4298-88db-ddaf00823dae",
   "metadata": {},
   "source": [
    "My idea is for a chatbot called ***HeyRoommate***: a communication helper for roommates and couples who live together. The app “translates” tense or emotional messages into tailored language that’s better suited to how your specific roommate communicates. For example, if you’re frustrated that `\"there have literally been dishes in the sink for the past week and it's driving me CRAZY\"` or want your roommate to `\"PLEASE keep it down at night cuz the noise is so annoyng and I can't sleep\"`, RoomieTone can rephrase your message based on tone settings like urgency or seriousness, and it’ll take into account your roommate’s personality preferences such as receptiveness, directness, or sensitivity. You can also set profiles for each person in the house, so the chatbot can learns how to best get the message across. The goal is to prevent small issues from turning into larger conflicts, keep them from feeling \"personal,\" and help people express themselves clearly and neutrally without losing their message."
   ]
  }
 ],
 "metadata": {
  "kernelspec": {
   "display_name": "Python 3-12 (COMM4190)",
   "language": "python",
   "name": "python3-12_comm4190"
  },
  "language_info": {
   "codemirror_mode": {
    "name": "ipython",
    "version": 3
   },
   "file_extension": ".py",
   "mimetype": "text/x-python",
   "name": "python",
   "nbconvert_exporter": "python",
   "pygments_lexer": "ipython3",
   "version": "3.12.12"
  }
 },
 "nbformat": 4,
 "nbformat_minor": 5
}
