{
 "cells": [
  {
   "cell_type": "markdown",
   "id": "99095b68-1f8d-4ba3-a433-e21042c7aacd",
   "metadata": {},
   "source": [
    "## Praachi Idea Pitch"
   ]
  },
  {
   "cell_type": "markdown",
   "id": "f5c2829c-19e9-4298-88db-ddaf00823dae",
   "metadata": {},
   "source": [
    "My idea is for a chatbot called ***HeyRoommate***: a communication helper for roommates and couples who live together. The app “translates” tense or emotional messages into tailored language that’s better suited to how your specific roommate communicates. For example, if you’re frustrated about dishes piling up or noise at night, RoomieTone can rephrase your message based on tone settings like urgency or seriousness, and it’ll take into account your roommate’s personality preferences such as receptiveness, directness, or sensitivity. You can also set profiles for each person in the house, so the chatbot canlearns how to balance honesty with kindness. The goal is to prevent small issues from turning into bigger conflicts and help people express themselves clearly without losing their tone or intent."
   ]
  },
  {
   "cell_type": "code",
   "execution_count": null,
   "id": "f455f9e0-2ff9-41f5-a226-6f4ee1dbe861",
   "metadata": {},
   "outputs": [],
   "source": []
  }
 ],
 "metadata": {
  "kernelspec": {
   "display_name": "Python 3-12 (COMM4190)",
   "language": "python",
   "name": "python3-12_comm4190"
  },
  "language_info": {
   "codemirror_mode": {
    "name": "ipython",
    "version": 3
   },
   "file_extension": ".py",
   "mimetype": "text/x-python",
   "name": "python",
   "nbconvert_exporter": "python",
   "pygments_lexer": "ipython3",
   "version": "3.12.12"
  }
 },
 "nbformat": 4,
 "nbformat_minor": 5
}
